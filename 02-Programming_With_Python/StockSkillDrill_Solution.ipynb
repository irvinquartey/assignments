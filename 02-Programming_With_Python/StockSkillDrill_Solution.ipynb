{
 "cells": [
  {
   "cell_type": "code",
   "execution_count": 52,
   "metadata": {},
   "outputs": [],
   "source": [
    "# Import the 'os' and 'csv' libraries\n",
    "import os\n",
    "import csv"
   ]
  },
  {
   "cell_type": "code",
   "execution_count": 53,
   "metadata": {},
   "outputs": [
    {
     "data": {
      "text/plain": [
       "'../Resources/yahoo_stock.csv'"
      ]
     },
     "execution_count": 53,
     "metadata": {},
     "output_type": "execute_result"
    }
   ],
   "source": [
    "# Set path for importing our CSV file\n",
    "file_path = os.path.join(\"..\",\"Resources\",\"yahoo_stock.csv\")\n",
    "file_path"
   ]
  },
  {
   "cell_type": "code",
   "execution_count": 61,
   "metadata": {},
   "outputs": [
    {
     "name": "stdout",
     "output_type": "stream",
     "text": [
      "The highest stock change was recorded at 5.49% on 3/13/2020\n",
      "That day recorded a high of 2711.330078\n",
      "That day recorded a low of 2492.370117\n",
      "The volume recorded that day is 8258670000\n"
     ]
    }
   ],
   "source": [
    "# Open a connection to the comma-delimited csv file \n",
    "\n",
    "with open(file_path,'r') as csv_file:\n",
    "\n",
    "    # Read in the CSV file using csv.DictReader() class\n",
    "    csvread = csv.DictReader(csv_file,delimiter=\",\")\n",
    "    \n",
    "    # Create a variable to save our print row and greatest daily percent change\n",
    "    rowprint={}\n",
    "    maxi_per=0\n",
    "\n",
    "    # Iterate through each row\n",
    "    for row in csvread:\n",
    "        \n",
    "        \n",
    "        # For each row, calculate the daily percent change\n",
    "        per_change= round((float(row['Close'])- float(row['Open']))/float(row['Open'])*100,2)\n",
    "        \n",
    "        # Check if the absolute daily percent change is greater than the previous max\n",
    "        \n",
    "        if abs(per_change) > maxi_per:\n",
    "     \n",
    "            \n",
    "            # If true, store new greatest daily percent change and print row\n",
    "            maxi_per = per_change\n",
    "            printrow = row     \n",
    "            \n",
    "    # Print out the date, stock high, stock low, volume and percent change for the day with the greatest percent change\n",
    "    \n",
    "    print (f\"The highest stock change was recorded at {maxi_per}% on {printrow['Date']}\")\n",
    "    print (f\"That day recorded a high of {printrow['High']}\")\n",
    "    print (f\"That day recorded a low of {printrow['Low']}\")\n",
    "    print (f\"The volume recorded that day is {printrow['Volume']}\")\n",
    "    \n",
    "    \n"
   ]
  },
  {
   "cell_type": "code",
   "execution_count": null,
   "metadata": {},
   "outputs": [],
   "source": []
  },
  {
   "cell_type": "code",
   "execution_count": null,
   "metadata": {},
   "outputs": [],
   "source": []
  },
  {
   "cell_type": "code",
   "execution_count": null,
   "metadata": {},
   "outputs": [],
   "source": []
  },
  {
   "cell_type": "code",
   "execution_count": null,
   "metadata": {},
   "outputs": [],
   "source": []
  }
 ],
 "metadata": {
  "kernelspec": {
   "display_name": "Python 3",
   "language": "python",
   "name": "python3"
  },
  "language_info": {
   "codemirror_mode": {
    "name": "ipython",
    "version": 3
   },
   "file_extension": ".py",
   "mimetype": "text/x-python",
   "name": "python",
   "nbconvert_exporter": "python",
   "pygments_lexer": "ipython3",
   "version": "3.8.8"
  }
 },
 "nbformat": 4,
 "nbformat_minor": 4
}
